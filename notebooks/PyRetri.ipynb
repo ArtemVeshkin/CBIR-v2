{
 "cells": [
  {
   "cell_type": "code",
   "execution_count": 4,
   "id": "531bee31-d51f-46b2-93d4-c3ce4081a37a",
   "metadata": {
    "tags": []
   },
   "outputs": [],
   "source": [
    "from tqdm import tqdm\n",
    "import numpy as np\n",
    "from collections import Counter, defaultdict\n",
    "import matplotlib.pyplot as plt\n",
    "import os\n",
    "import gc\n",
    "from multiprocessing import Pool\n",
    "import shutil\n",
    "from PIL import Image"
   ]
  },
  {
   "cell_type": "code",
   "execution_count": 2,
   "id": "9c1f031a-e5eb-46bf-b309-79f464dbd842",
   "metadata": {
    "tags": []
   },
   "outputs": [],
   "source": [
    "SEED = 24\n",
    "np.random.seed(SEED)\n",
    "BASE_DIR = '/home/artem/data/COCO/CBIR_data'\n",
    "tile_size = 256"
   ]
  },
  {
   "cell_type": "code",
   "execution_count": 6,
   "id": "e97fd4db-2068-403e-8502-0cdf9e91470a",
   "metadata": {
    "tags": []
   },
   "outputs": [],
   "source": [
    "# NPY -> JPG\n",
    "for class_type in ['class', 'superclass']:\n",
    "    for split_type in ['query', 'gallery']:\n",
    "        dir_path = f'{BASE_DIR}/CBIR_test/{class_type}/{split_type}'\n",
    "        for file in os.listdir(dir_path):\n",
    "            image = np.load(f'{dir_path}/{file}')\n",
    "            image = Image.fromarray(image)\n",
    "            image.save(f'{dir_path}/{file[:-4]}.jpg')"
   ]
  },
  {
   "cell_type": "code",
   "execution_count": 9,
   "id": "21dd0971-8913-42cc-aef7-18dbf6a97bd5",
   "metadata": {
    "tags": []
   },
   "outputs": [],
   "source": [
    "for class_type in ['class', 'superclass']:\n",
    "    for split_type in ['query', 'gallery']:\n",
    "        dir_path = f'{BASE_DIR}/CBIR_test/{class_type}/{split_type}'\n",
    "        classes = set()\n",
    "        split_pos = {\n",
    "            'class': 1,\n",
    "            'superclass': 2\n",
    "        }[class_type]\n",
    "        for file in os.listdir(dir_path):\n",
    "            class_name = file.split('_')[split_pos]\n",
    "            classes.add(class_name)\n",
    "        \n",
    "        for class_name in classes:\n",
    "            class_path = f'{dir_path}/{class_name}'\n",
    "            if not os.path.exists(class_path):\n",
    "                os.makedirs(class_path)\n",
    "        \n",
    "        for file in os.listdir(dir_path):\n",
    "            if file.endswith('.jpg'):\n",
    "                class_name = file.split('_')[split_pos]\n",
    "                shutil.move(f'{dir_path}/{file}', f'{dir_path}/{class_name}/{file}')"
   ]
  },
  {
   "cell_type": "code",
   "execution_count": null,
   "id": "ed1511ab-806f-4c2d-abae-906ff58868d9",
   "metadata": {},
   "outputs": [],
   "source": []
  }
 ],
 "metadata": {
  "kernelspec": {
   "display_name": "Python 3 (ipykernel)",
   "language": "python",
   "name": "python3"
  },
  "language_info": {
   "codemirror_mode": {
    "name": "ipython",
    "version": 3
   },
   "file_extension": ".py",
   "mimetype": "text/x-python",
   "name": "python",
   "nbconvert_exporter": "python",
   "pygments_lexer": "ipython3",
   "version": "3.8.16"
  }
 },
 "nbformat": 4,
 "nbformat_minor": 5
}
