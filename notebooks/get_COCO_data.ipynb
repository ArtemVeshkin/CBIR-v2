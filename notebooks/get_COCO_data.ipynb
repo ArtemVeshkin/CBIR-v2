{
 "cells": [
  {
   "cell_type": "code",
   "execution_count": 1,
   "id": "483a4bc3-a574-4b20-b36b-13dfa9ce9b7a",
   "metadata": {
    "tags": []
   },
   "outputs": [],
   "source": [
    "from tqdm import tqdm\n",
    "import numpy as np\n",
    "from torchvision.datasets import CocoDetection\n",
    "from collections import Counter, defaultdict\n",
    "import matplotlib.pyplot as plt\n",
    "import os\n",
    "import gc\n",
    "from multiprocessing import Pool\n",
    "import shutil"
   ]
  },
  {
   "cell_type": "code",
   "execution_count": 5,
   "id": "43f40e30-50f5-46fd-ad97-af0f93de3da1",
   "metadata": {
    "tags": []
   },
   "outputs": [],
   "source": [
    "SEED = 24\n",
    "np.random.seed(SEED)\n",
    "BASE_DIR = '/home/artem/data/COCO/CBIR_data'\n",
    "tile_size = 256"
   ]
  },
  {
   "cell_type": "code",
   "execution_count": 3,
   "id": "4fd388a2-2b06-4662-b7ef-4b97ebae9cd9",
   "metadata": {
    "tags": []
   },
   "outputs": [
    {
     "name": "stdout",
     "output_type": "stream",
     "text": [
      "loading annotations into memory...\n",
      "Done (t=6.87s)\n",
      "creating index...\n",
      "index created!\n"
     ]
    }
   ],
   "source": [
    "coco_dataset = CocoDetection(root='/home/artem/data/COCO/train2017',\n",
    "                             annFile='/home/artem/data/COCO/annotations/instances_train2017.json',\n",
    "                             transform=np.array)"
   ]
  },
  {
   "cell_type": "code",
   "execution_count": 4,
   "id": "93772c20-73b0-4f6d-a944-c82cbe09f954",
   "metadata": {
    "tags": []
   },
   "outputs": [],
   "source": [
    "supercat_map = {0: 'background'}\n",
    "cat_map = {0: 'background'}\n",
    "for cat in coco_dataset.coco.getCatIds():\n",
    "    supercat_map[cat] = coco_dataset.coco.loadCats([cat])[0]['supercategory']\n",
    "    cat_map[cat] = coco_dataset.coco.loadCats([cat])[0]['name']"
   ]
  },
  {
   "cell_type": "code",
   "execution_count": 5,
   "id": "10ca662d-2b35-4427-a469-8307f329ee90",
   "metadata": {},
   "outputs": [
    {
     "name": "stderr",
     "output_type": "stream",
     "text": [
      "100%|████████████████████████████████████████████████████████████████████████████████████████████████████████████████████████████████████████████████████████████████████████████████████████| 118287/118287 [1:18:37<00:00, 25.07it/s]\n"
     ]
    }
   ],
   "source": [
    "full_cat_file_idxs = defaultdict(int)\n",
    "for image, target in tqdm(coco_dataset):\n",
    "    mask = np.zeros(image.shape[:2])\n",
    "    for elem in sorted(target, key=lambda x: -x['area']):\n",
    "        mask[np.where(coco_dataset.coco.annToMask(elem) == 1)] = elem['category_id']\n",
    "        \n",
    "    h, w = image.shape[:2]\n",
    "    results = []\n",
    "    for x in range(0, w - tile_size, int(tile_size / 2)):\n",
    "        for y in range(0, h - tile_size, int(tile_size / 2)):\n",
    "            tile = mask[y:y + tile_size, x:x + tile_size]\n",
    "            tile_class_idx = int(Counter(tile.ravel()).most_common(1)[0][0])\n",
    "            tile_class = cat_map[tile_class_idx]\n",
    "            tile_superclass = supercat_map[tile_class_idx]\n",
    "            area = tile[tile == tile_class_idx].shape[0] / tile.ravel().shape[0] \n",
    "            \n",
    "            full_cat_name = f'{tile_class}_{tile_superclass}'\n",
    "            tile = image[y:y + tile_size, x:x + tile_size, :]\n",
    "            file_idx = full_cat_file_idxs[full_cat_name]\n",
    "            full_cat_file_idxs[full_cat_name] += 1\n",
    "            file_name = f'{file_idx}_{full_cat_name}_{area:0.4f}.npy'\n",
    "            dir_path = f'{BASE_DIR}/{full_cat_name}'\n",
    "            if not os.path.exists(dir_path):\n",
    "                os.makedirs(dir_path)\n",
    "            np.save(f'{dir_path}/{file_name}', tile)"
   ]
  },
  {
   "cell_type": "code",
   "execution_count": 6,
   "id": "3b9ae4db-0e6b-41b0-ae29-ccaad9fca927",
   "metadata": {
    "tags": []
   },
   "outputs": [],
   "source": [
    "class_to_files = defaultdict(list)\n",
    "for class_name in os.listdir(f'{BASE_DIR}/raw_classes'):\n",
    "    path = f'{BASE_DIR}/raw_classes/{class_name}'\n",
    "    if os.path.isdir(path):\n",
    "        n_files = len([name for name in os.listdir(path)])\n",
    "        for name in os.listdir(path):\n",
    "            class_to_files[class_name].append(f'{path}/{name}')"
   ]
  },
  {
   "cell_type": "code",
   "execution_count": 99,
   "id": "7b6c95e4-9d87-418f-9a05-21dccb978c68",
   "metadata": {},
   "outputs": [],
   "source": [
    "train = {}\n",
    "val = {}\n",
    "test = {}\n",
    "N_TILES_PER_CLASS = 1000\n",
    "# SPLIT WITH [70-15-15]%\n",
    "for class_name, files in class_to_files.items():\n",
    "    if len(files) >= N_TILES_PER_CLASS:\n",
    "        sampled_files = np.array(files)[np.random.choice(len(files), size=N_TILES_PER_CLASS, replace=False)]\n",
    "        train_thr = int(N_TILES_PER_CLASS * 0.7)\n",
    "        val_thr = int(N_TILES_PER_CLASS * 0.85)\n",
    "        train_files = sampled_files[:train_thr]\n",
    "        val_files = sampled_files[train_thr:val_thr]\n",
    "        test_files = sampled_files[val_thr:]\n",
    "\n",
    "        train[class_name] = train_files\n",
    "        val[class_name] = val_files\n",
    "        test[class_name] = test_files"
   ]
  },
  {
   "cell_type": "code",
   "execution_count": 136,
   "id": "6ed6ee02-89f8-4bd8-8ca3-6e665242d216",
   "metadata": {
    "tags": []
   },
   "outputs": [],
   "source": [
    "for name, data in zip(('train', 'val', 'test'),\n",
    "                      (train,    val,   test)):\n",
    "    dir_path = f'{BASE_DIR}/{name}'\n",
    "    if not os.path.exists(dir_path):\n",
    "        os.makedirs(dir_path)\n",
    "    for class_name, files in data.items():\n",
    "        for file in files:\n",
    "            shutil.copy(file, f'{dir_path}/{file.split(\"/\")[-1]}')"
   ]
  },
  {
   "cell_type": "code",
   "execution_count": 10,
   "id": "b2eed5a6-7be0-479b-80c7-1ec46af6aa2e",
   "metadata": {
    "tags": []
   },
   "outputs": [],
   "source": [
    "test_class_to_tiles = defaultdict(list)\n",
    "for file in os.listdir(f'{BASE_DIR}/test'):\n",
    "    split = file.split('_')\n",
    "    class_name = split[1]\n",
    "    test_class_to_tiles[class_name].append(f'{BASE_DIR}/test/{file}')"
   ]
  },
  {
   "cell_type": "code",
   "execution_count": 51,
   "id": "76c83a0d-45e7-4732-a036-f4d280a8c06e",
   "metadata": {
    "tags": []
   },
   "outputs": [],
   "source": [
    "class_to_best_tile_idx = {\n",
    "    'chair': 6,\n",
    "    'tv': 13,\n",
    "    'oven': 11,\n",
    "    'cat': 2,\n",
    "    'refrigerator': 13,\n",
    "    'broccoli': 1,\n",
    "    'bowl': 1,\n",
    "    'pizza': 7,\n",
    "    'cow': 0,\n",
    "    'giraffe': 10,\n",
    "    'boat': 2,\n",
    "    'background': 3,\n",
    "    'horse': 8,\n",
    "    'bus': 13,\n",
    "    'donut': 7,\n",
    "    'teddy bear': 3,\n",
    "    'sandwich': 7,\n",
    "    'bed': 4,\n",
    "    'bear': 12,\n",
    "    'airplane': 13,\n",
    "    'zebra': 6,\n",
    "    'cake': 9,\n",
    "    'car': 0,\n",
    "    'elephant': 11,\n",
    "    'suitcase': 12,\n",
    "    'umbrella': 10,\n",
    "    'hot dog': 14,\n",
    "    'laptop': 10,\n",
    "    'person': 6,\n",
    "    'banana': 4,\n",
    "    'truck': 8,\n",
    "    'train': 7,\n",
    "    'toilet': 6,\n",
    "    'bench': 12,\n",
    "    'couch': 3,\n",
    "    'dog': 13,\n",
    "    'dining table': 9,\n",
    "    'motorcycle': 4,\n",
    "    'potted plant': 4,\n",
    "    'sheep': 9\n",
    "}\n",
    "\n",
    "superclass_to_best_tile_idx = {\n",
    "    'furniture': [16, 20, 29],\n",
    "    'electronic': [2, 12, 27],\n",
    "    'appliance': [14, 19, 22],\n",
    "    'animal': [1, 4, 6],\n",
    "    'food': [3, 17, 28],\n",
    "    'kitchen': [16, 20, 28],\n",
    "    'vehicle': [6, 12, 23],\n",
    "    'background': [3, 11, 18],\n",
    "    'indoor': [4, 13, 26],\n",
    "    'accessory': [0, 10, 28],\n",
    "    'person': [6, 14, 22],\n",
    "    'outdoor': [2, 15, 23]\n",
    "}"
   ]
  },
  {
   "cell_type": "code",
   "execution_count": 43,
   "id": "c34311b9-3887-48dc-917e-41c70efd5f01",
   "metadata": {
    "tags": []
   },
   "outputs": [],
   "source": [
    "for class_name, files in test_class_to_tiles.items():\n",
    "    best_tile = sorted(files, key=lambda x: -float(x.split('_')[-1][:-4]))[class_to_best_tile_idx[class_name]]\n",
    "    shutil.copy(best_tile, f'{BASE_DIR}/CBIR_test/class/query/{best_tile.split(\"/\")[-1]}')\n",
    "    for file in files:\n",
    "        if file != best_tile:\n",
    "            shutil.copy(file, f'{BASE_DIR}/CBIR_test/class/gallery/{file.split(\"/\")[-1]}')"
   ]
  },
  {
   "cell_type": "code",
   "execution_count": 44,
   "id": "2609a83d-ca7a-439b-9c2d-5c29d1e63311",
   "metadata": {
    "tags": []
   },
   "outputs": [],
   "source": [
    "test_superclass_to_tiles = defaultdict(list)\n",
    "for file in os.listdir(f'{BASE_DIR}/test'):\n",
    "    split = file.split('_')\n",
    "    superclass_name = split[2]\n",
    "    test_superclass_to_tiles[superclass_name].append(f'{BASE_DIR}/test/{file}')"
   ]
  },
  {
   "cell_type": "code",
   "execution_count": 53,
   "id": "bbb352d7-ce0c-46da-9fde-6697c96a1382",
   "metadata": {
    "tags": []
   },
   "outputs": [],
   "source": [
    "for superclass_name, files in test_superclass_to_tiles.items():\n",
    "    best_tiles = sorted(files, key=lambda x: -float(x.split('_')[-1][:-4]))\n",
    "    best_tile_names = set()\n",
    "    for idx in superclass_to_best_tile_idx[superclass_name]:\n",
    "        cur_best_tile = best_tiles[idx]\n",
    "        best_tile_names.add(cur_best_tile)\n",
    "        shutil.copy(cur_best_tile, f'{BASE_DIR}/CBIR_test/superclass/query/{cur_best_tile.split(\"/\")[-1]}')\n",
    "    for file in files:\n",
    "        if file not in best_tile_names:\n",
    "            shutil.copy(file, f'{BASE_DIR}/CBIR_test/superclass/gallery/{file.split(\"/\")[-1]}')"
   ]
  },
  {
   "cell_type": "code",
   "execution_count": null,
   "id": "7d7d9267-0ac3-48ac-9508-33fe25963bc3",
   "metadata": {
    "tags": []
   },
   "outputs": [],
   "source": [
    "n = 30\n",
    "for class_name, files in test_superclass_to_tiles.items():\n",
    "    best_tiles = sorted(files, key=lambda x: -float(x.split('_')[-1][:-4]))[:n]\n",
    "    print(class_name)\n",
    "    f, axarr = plt.subplots(n // 5, 5)\n",
    "    f.set_dpi(500)\n",
    "    for i in range(n):\n",
    "        axarr[i // 5, i % 5].imshow(np.load(best_tiles[i]))\n",
    "        axarr[i // 5, i % 5].axis('off')\n",
    "        axarr[i // 5, i % 5].set_title(i)\n",
    "    plt.show()"
   ]
  },
  {
   "cell_type": "code",
   "execution_count": 124,
   "id": "6ad746bb-4a6b-472a-8d2c-87f14a6fe330",
   "metadata": {
    "tags": []
   },
   "outputs": [
    {
     "data": {
      "image/png": "[encoded data removed]",
      "text/plain": [
       "<matplotlib.figure.Figure at 0x7fec035855e0>"
      ]
     },
     "metadata": {},
     "output_type": "display_data"
    },
    {
     "name": "stdout",
     "output_type": "stream",
     "text": [
      "78\n"
     ]
    }
   ],
   "source": [
    "values = list(map(lambda x: len(x), class_to_files.values()))\n",
    "values = np.array(values)\n",
    "values = values[values < 1e4]\n",
    "# values = values[values >= 1000]\n",
    "plt.hist(values, bins=40)\n",
    "plt.vlines(1000, 0, 17, label='1000', linestyles='--', colors='red')\n",
    "plt.legend()\n",
    "plt.show()\n",
    "print(len(values))"
   ]
  }
 ],
 "metadata": {
  "kernelspec": {
   "display_name": "Python 3 (ipykernel)",
   "language": "python",
   "name": "python3"
  },
  "language_info": {
   "codemirror_mode": {
    "name": "ipython",
    "version": 3
   },
   "file_extension": ".py",
   "mimetype": "text/x-python",
   "name": "python",
   "nbconvert_exporter": "python",
   "pygments_lexer": "ipython3",
   "version": "3.8.16"
  }
 },
 "nbformat": 4,
 "nbformat_minor": 5
}
