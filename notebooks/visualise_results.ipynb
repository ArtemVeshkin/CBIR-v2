{
 "cells": [
  {
   "cell_type": "code",
   "execution_count": 36,
   "id": "418ace60-df03-47de-848a-97f6f0ad5071",
   "metadata": {
    "tags": []
   },
   "outputs": [],
   "source": [
    "import matplotlib.pyplot as plt\n",
    "import matplotlib.transforms as mtrans\n",
    "import os\n",
    "from PIL import Image\n",
    "import numpy as np\n",
    "\n",
    "from tqdm.auto import tqdm\n",
    "\n",
    "from pyretri.config import get_defaults_cfg, setup_cfg\n",
    "from pyretri.datasets import build_transformers\n",
    "from pyretri.models import build_model\n",
    "from pyretri.extract import build_extract_helper\n",
    "from pyretri.index import build_index_helper, feature_loader"
   ]
  },
  {
   "cell_type": "code",
   "execution_count": 2,
   "id": "8be91e53-6991-4317-aa98-9e742ef9d9fc",
   "metadata": {
    "tags": []
   },
   "outputs": [],
   "source": [
    "cfg = get_defaults_cfg()\n",
    "cfg = setup_cfg(cfg, '/home/artem/data/COCO/CBIR_data/CBIR_test/class/config.yaml', '')"
   ]
  },
  {
   "cell_type": "code",
   "execution_count": 15,
   "id": "2a5764b7-9514-4a67-ae11-5f6969a95e50",
   "metadata": {
    "tags": []
   },
   "outputs": [
    {
     "name": "stdout",
     "output_type": "stream",
     "text": [
      "[LoadFeature] Success, total 5880 images, \n",
      " feature names: dict_keys(['pool5_GeM'])\n",
      "[LoadFeature] Success, total 5880 images, \n",
      " feature names: dict_keys(['pool5_GeM'])\n"
     ]
    }
   ],
   "source": [
    "def get_index_structures(cfg):\n",
    "    index_structures = {}\n",
    "\n",
    "    # build transformers\n",
    "    transformers = build_transformers(cfg.datasets.transformers)\n",
    "    index_structures['transformers'] = transformers\n",
    "\n",
    "    # build model\n",
    "    model = build_model(cfg.model)\n",
    "\n",
    "    extract_helper = build_extract_helper(model, cfg.extract)\n",
    "    index_structures['extract_helper'] = extract_helper\n",
    "\n",
    "    # load gallery features\n",
    "    gallery_fea, gallery_info, _ = feature_loader.load(cfg.index.gallery_fea_dir, cfg.index.feature_names)\n",
    "    index_structures['gallery_fea'] = gallery_fea\n",
    "    index_structures['gallery_info'] = gallery_info\n",
    "\n",
    "    index_helper = build_index_helper(cfg.index)\n",
    "    index_structures['index_helper'] = index_helper\n",
    "    \n",
    "    return index_structures"
   ]
  },
  {
   "cell_type": "code",
   "execution_count": 34,
   "id": "3ab06056-0f04-4c40-9386-795119e5711e",
   "metadata": {
    "tags": []
   },
   "outputs": [],
   "source": [
    "def index_and_save(queries, output_path, index_structures):\n",
    "\n",
    "    def index_img(path, top_k=10):\n",
    "        img = Image.open(path).convert(\"RGB\")\n",
    "        img_tensor = index_structures['transformers'](img)\n",
    "        img_fea_info = index_structures['extract_helper'].do_single_extract(img_tensor)\n",
    "        stacked_feature = list()\n",
    "        for name in cfg.index.feature_names:\n",
    "            assert name in img_fea_info[0], \"invalid feature name: {} not in {}!\".format(name, img_fea_info[0].keys())\n",
    "            stacked_feature.append(img_fea_info[0][name].cpu())\n",
    "        img_fea = np.concatenate(stacked_feature, axis=1)\n",
    "        index_result_info, _, _ = index_structures['index_helper'].do_index(img_fea, img_fea_info, index_structures['gallery_fea'])\n",
    "        top_k_idx = index_result_info[0]['ranked_neighbors_idx'][:top_k]\n",
    "        return top_k_idx\n",
    "\n",
    "    \n",
    "    def visualise_index_result(top_k_idx, query_path, ax):\n",
    "\n",
    "        def single_imshow(ax, img, title, color='black'):\n",
    "            ax.imshow(img)\n",
    "            ax.set_axis_off()\n",
    "            ax.set_title(title, color=color, fontweight='bold')\n",
    "\n",
    "        query_label = query_path.split('/')[-2]\n",
    "        query_img = np.array(Image.open(query_path))\n",
    "        single_imshow(ax[0], query_img, f'QUERY\\n{query_label}')\n",
    "\n",
    "        for i, idx in enumerate(top_k_idx):\n",
    "            idx_info = index_structures['gallery_info'][idx]\n",
    "            label = idx_info['label']\n",
    "            img_path = idx_info['path']\n",
    "            img = np.array(Image.open(img_path))\n",
    "            text_color = 'green' if query_label == label else 'red'\n",
    "            single_imshow(ax[i + 1], img, f'TOP {i + 1}\\n{label}', text_color)\n",
    "\n",
    "\n",
    "    f, ax = plt.subplots(nrows=3, ncols=11, figsize=(20, 20), gridspec_kw = {'wspace':0.15, 'hspace':-0.83})\n",
    "    f.set_tight_layout(False)\n",
    "\n",
    "    for i, path in enumerate(queries):\n",
    "        top_k_idx = index_img(path)\n",
    "        visualise_index_result(top_k_idx, path, ax[i])\n",
    "\n",
    "    plt.plot([0.125, 0.9], [0.553, 0.553], color='black', lw=3,transform=plt.gcf().transFigure, clip_on=False)\n",
    "    plt.plot([0.125, 0.9], [0.455, 0.455], color='black', lw=3,transform=plt.gcf().transFigure, clip_on=False)\n",
    "    plt.plot([0.1915, 0.1915], [0.3685, 0.65], color='black', lw=3,transform=plt.gcf().transFigure, clip_on=False)\n",
    "    \n",
    "    plt.savefig(output_path, bbox_inches='tight', pad_inches=0)\n",
    "    plt.close(f)\n",
    "    \n",
    "queries = ['/home/artem/data/COCO/CBIR_data/CBIR_test/class/query/airplane/973_airplane_vehicle_0.9336.jpg',\n",
    "           '/home/artem/data/COCO/CBIR_data/CBIR_test/class/query/airplane/66_airplane_vehicle_0.7957.jpg',\n",
    "           '/home/artem/data/COCO/CBIR_data/CBIR_test/class/query/airplane/353_airplane_vehicle_0.5255.jpg']\n",
    "output_path = 'search_result.png'\n",
    "index_and_save(queries, output_path, index_structures)"
   ]
  },
  {
   "cell_type": "code",
   "execution_count": 45,
   "id": "a883f5c7-0556-457c-95c4-ae84afcf0a4e",
   "metadata": {
    "tags": []
   },
   "outputs": [
    {
     "name": "stdout",
     "output_type": "stream",
     "text": [
      "[LoadFeature] Success, total 5964 images, \n",
      " feature names: dict_keys(['pool5_GeM'])\n",
      "[LoadFeature] Success, total 5964 images, \n",
      " feature names: dict_keys(['pool5_GeM'])\n"
     ]
    }
   ],
   "source": [
    "BASE_DIR = '/home/artem/data/COCO/CBIR_data/CBIR_test/superclass'\n",
    "QUERY_DIR = f'{BASE_DIR}/query'\n",
    "CFG_PATH = f'{BASE_DIR}/config.yaml'\n",
    "\n",
    "cfg = get_defaults_cfg()\n",
    "cfg = setup_cfg(cfg, CFG_PATH, '')\n",
    "index_structures = get_index_structures(cfg)"
   ]
  },
  {
   "cell_type": "code",
   "execution_count": 46,
   "id": "b1435431-e3e9-4f9b-bf6c-828092e85be5",
   "metadata": {
    "tags": []
   },
   "outputs": [
    {
     "data": {
      "application/vnd.jupyter.widget-view+json": {
       "model_id": "326e55f05011427aa58c7de3d3d45a81",
       "version_major": 2,
       "version_minor": 0
      },
      "text/plain": [
       "  0%|          | 0/12 [00:00<?, ?it/s]"
      ]
     },
     "metadata": {},
     "output_type": "display_data"
    }
   ],
   "source": [
    "for class_name in tqdm(os.listdir(QUERY_DIR)):\n",
    "    queries = os.listdir(f'{QUERY_DIR}/{class_name}')\n",
    "    queries = list(map(lambda x: f'{QUERY_DIR}/{class_name}/{x}', queries))\n",
    "    output_path = f'search_results/superclass/{class_name}.png'\n",
    "    index_and_save(queries, output_path, index_structures)"
   ]
  }
 ],
 "metadata": {
  "kernelspec": {
   "display_name": "Python 3 (ipykernel)",
   "language": "python",
   "name": "python3"
  },
  "language_info": {
   "codemirror_mode": {
    "name": "ipython",
    "version": 3
   },
   "file_extension": ".py",
   "mimetype": "text/x-python",
   "name": "python",
   "nbconvert_exporter": "python",
   "pygments_lexer": "ipython3",
   "version": "3.8.16"
  }
 },
 "nbformat": 4,
 "nbformat_minor": 5
}
