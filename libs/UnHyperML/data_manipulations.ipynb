{
 "cells": [
  {
   "cell_type": "code",
   "execution_count": 3,
   "id": "1d59828f-a414-4e90-a56c-1c4578d59b39",
   "metadata": {
    "tags": []
   },
   "outputs": [
    {
     "name": "stderr",
     "output_type": "stream",
     "text": [
      "/home/artem/anaconda3/envs/CBIR-v2/lib/python3.11/site-packages/tqdm/auto.py:21: TqdmWarning: IProgress not found. Please update jupyter and ipywidgets. See https://ipywidgets.readthedocs.io/en/stable/user_install.html\n",
      "  from .autonotebook import tqdm as notebook_tqdm\n"
     ]
    }
   ],
   "source": [
    "import glob\n",
    "import shutil\n",
    "from tqdm.auto import tqdm\n",
    "import os\n",
    "from collections import defaultdict\n",
    "import matplotlib.pyplot as plt\n",
    "from PIL import Image\n",
    "import numpy as np"
   ]
  },
  {
   "cell_type": "code",
   "execution_count": 26,
   "id": "e6b02c18-2194-45e9-9650-4644d53cf537",
   "metadata": {
    "tags": []
   },
   "outputs": [],
   "source": [
    "with open('./all_data_in_1_folder/CUB_200_2011/new_images.txt', 'w') as new_images_file:\n",
    "    with open('./all_data_in_1_folder/CUB_200_2011/images.txt', 'r') as images_file:\n",
    "        for line in images_file.readlines():\n",
    "            idx, path = line.split()\n",
    "            full_path = f'./all_data_in_1_folder/CUB_200_2011/images/{path}'\n",
    "            dest_path = f'all_data/{path.split(\"/\")[-1]}'\n",
    "            full_dest_path = f'./all_data_in_1_folder/CUB_200_2011/images/{dest_path}'\n",
    "            shutil.copy(full_path, full_dest_path)\n",
    "            new_images_file.write(f'{idx} {dest_path}\\n')"
   ]
  },
  {
   "cell_type": "code",
   "execution_count": 4,
   "id": "1b4a4ac6-eb56-4170-a97a-4e36b7eaf490",
   "metadata": {
    "tags": []
   },
   "outputs": [
    {
     "name": "stderr",
     "output_type": "stream",
     "text": [
      "40000it [00:51, 771.10it/s]\n"
     ]
    }
   ],
   "source": [
    "train_test_idx_thr = 20000\n",
    "with open('./COCO/CUB_200_2011/train.txt', 'w') as train_fh:\n",
    "    with open('./COCO/CUB_200_2011/test.txt', 'w') as test_fh:\n",
    "        with open('./COCO/CUB_200_2011/train_test_split.txt', 'w') as split_fh:\n",
    "            with open('./COCO/CUB_200_2011/images.txt', 'w') as images_fh:\n",
    "                for idx, npy_path in tqdm(enumerate(os.listdir('./COCO/CUB_200_2011/images/all_data/'))):\n",
    "                    npy = np.load(f'./COCO/CUB_200_2011/images/all_data/{npy_path}')\n",
    "                    out_name = f'all_data/{npy_path.split(\".\")[0]}.jpg'.replace(' ', '_')\n",
    "                    full_out_name = f'./COCO/CUB_200_2011/images/{out_name}'\n",
    "                    Image.fromarray(npy).save(full_out_name)\n",
    "                    \n",
    "                    if idx < train_test_idx_thr:\n",
    "                        train_fh.write(f'{idx} 1\\n')\n",
    "                        split_fh.write(f'{idx} 1\\n')\n",
    "                    else:\n",
    "                        test_fh.write(f'{idx} 0\\n')\n",
    "                        split_fh.write(f'{idx} 0\\n')\n",
    "                    images_fh.write(f'{idx} {out_name}\\n')\n",
    "                    # break"
   ]
  }
 ],
 "metadata": {
  "kernelspec": {
   "display_name": "Python 3 (ipykernel)",
   "language": "python",
   "name": "python3"
  },
  "language_info": {
   "codemirror_mode": {
    "name": "ipython",
    "version": 3
   },
   "file_extension": ".py",
   "mimetype": "text/x-python",
   "name": "python",
   "nbconvert_exporter": "python",
   "pygments_lexer": "ipython3",
   "version": "3.11.4"
  }
 },
 "nbformat": 4,
 "nbformat_minor": 5
}
